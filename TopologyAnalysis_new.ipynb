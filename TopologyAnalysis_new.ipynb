{
  "nbformat": 4,
  "nbformat_minor": 0,
  "metadata": {
    "colab": {
      "name": "TopologyAnalysis_new.ipynb",
      "provenance": [],
      "collapsed_sections": [],
      "toc_visible": true,
      "machine_shape": "hm"
    },
    "kernelspec": {
      "name": "python3",
      "display_name": "Python 3"
    },
    "accelerator": "GPU"
  },
  "cells": [
    {
      "cell_type": "markdown",
      "metadata": {
        "id": "4xUuC2INGDYl",
        "colab_type": "text"
      },
      "source": [
        "# Topology Analysis"
      ]
    },
    {
      "cell_type": "markdown",
      "metadata": {
        "id": "0Q34MNhAGbd1",
        "colab_type": "text"
      },
      "source": [
        "## Based on images processing  \n",
        "**Datasets:**  \n",
        "Labeled Faces in the Wild: http://vis-www.cs.umass.edu/lfw/"
      ]
    },
    {
      "cell_type": "markdown",
      "metadata": {
        "id": "j7I9X-T6RRdF",
        "colab_type": "text"
      },
      "source": [
        "**Authors:**  \n",
        "Gvozdeva V   \n",
        "Kharchevnikova A   \n",
        "Sokolova A"
      ]
    },
    {
      "cell_type": "code",
      "metadata": {
        "id": "gGVoSU5Z-yyp",
        "colab_type": "code",
        "colab": {}
      },
      "source": [
        "from google.colab import drive\n",
        "drive.mount('/content/gdrive')"
      ],
      "execution_count": 0,
      "outputs": []
    },
    {
      "cell_type": "code",
      "metadata": {
        "id": "EPAylVT7AlCG",
        "colab_type": "code",
        "colab": {}
      },
      "source": [
        "!tar -zxvf '/content/gdrive/My Drive/Faces/lfw.tgz'"
      ],
      "execution_count": 0,
      "outputs": []
    },
    {
      "cell_type": "code",
      "metadata": {
        "id": "UYDWhKbGBJcL",
        "colab_type": "code",
        "colab": {}
      },
      "source": [
        "# Preprocessing\n",
        "import pathlib\n",
        "\n",
        "dataset_path = pathlib.Path('/content/lfw/')\n",
        "def get_all_imgs():\n",
        "  all_imgs = list(dataset_path.rglob('*.jpg'))\n",
        "  all_imgs.extend(dataset_path.rglob('*.png'))\n",
        "  return all_imgs\n",
        "\n",
        "def get_all_imgs_gen():\n",
        "  return dataset_path.rglob('*.jpg')\n",
        "\n",
        "def get_labels(imgs):\n",
        "  labels = []\n",
        "  for img in imgs:\n",
        "    name = img.parts[3]\n",
        "    labels.append(name)\n",
        "  return labels"
      ],
      "execution_count": 0,
      "outputs": []
    },
    {
      "cell_type": "code",
      "metadata": {
        "id": "Q0sjP5eFCteT",
        "colab_type": "code",
        "colab": {}
      },
      "source": [
        "all_imgs = get_all_imgs()\n",
        "labels = get_labels(all_imgs)"
      ],
      "execution_count": 0,
      "outputs": []
    },
    {
      "cell_type": "markdown",
      "metadata": {
        "id": "WtO3rY7YR2yZ",
        "colab_type": "text"
      },
      "source": [
        "### Extract feature vectors"
      ]
    },
    {
      "cell_type": "code",
      "metadata": {
        "id": "B6GTwRV0Xs4C",
        "colab_type": "code",
        "colab": {}
      },
      "source": [
        "import tensorflow as tf\n",
        "import argparse\n",
        "import sys\n",
        "import math\n",
        "import datetime, time\n",
        "import numpy as np\n",
        "from sklearn import preprocessing, model_selection\n",
        "\n",
        "from scipy import misc\n",
        "from sklearn.pipeline import Pipeline\n",
        "from PIL import Image\n",
        "\n",
        "np.random.seed(123)  # for reproducibility\n",
        "\n",
        "img_extensions=['.jpg','.jpeg','.png']\n",
        "def is_image(path):\n",
        "    _, file_extension = os.path.splitext(path)\n",
        "    return file_extension.lower() in img_extensions\n",
        "\n",
        "def get_files(db_dir):\n",
        "    return [[d,os.path.join(d,f)] for d in next(os.walk(db_dir))[1] \n",
        "            for f in next(os.walk(os.path.join(db_dir,d)))[2] if is_image(f)]\n",
        "\n",
        "def load_graph(frozen_graph_filename, prefix=''):\n",
        "    with tf.gfile.GFile(frozen_graph_filename, 'rb') as f:\n",
        "        graph_def = tf.GraphDef()\n",
        "        graph_def.ParseFromString(f.read())\n",
        "\n",
        "    with tf.Graph().as_default() as graph:\n",
        "        tf.import_graph_def(graph_def, name=prefix)\n",
        "    return graph\n",
        "\n",
        "class TensorFlowInference:\n",
        "    def __init__(self, frozen_graph_filename, input_tensor, output_tensor, learning_phase_tensor=None, convert2BGR=True,\n",
        "                 imageNetUtilsMean=True, additional_input_value=0):\n",
        "        graph = load_graph(frozen_graph_filename, '')\n",
        "        print([n.name for n in graph.as_graph_def().node if 'input' in n.name])\n",
        "\n",
        "        graph_op_list = list(graph.get_operations())\n",
        "        print([n.name for n in graph_op_list if 'keras_learning' in n.name])\n",
        "\n",
        "        self.tf_sess = tf.Session(graph=graph)\n",
        "\n",
        "        self.tf_input_image = graph.get_tensor_by_name(input_tensor)\n",
        "        print('tf_input_image=', self.tf_input_image)\n",
        "        self.tf_output_features = graph.get_tensor_by_name(output_tensor)\n",
        "        print('tf_output_features=', self.tf_output_features)\n",
        "        self.tf_learning_phase = graph.get_tensor_by_name(learning_phase_tensor) if learning_phase_tensor else None;\n",
        "        print('tf_learning_phase=', self.tf_learning_phase)\n",
        "        if self.tf_input_image.shape.dims is None:\n",
        "            w = h = 160\n",
        "        else:\n",
        "            _, w, h, _ = self.tf_input_image.shape\n",
        "        self.w, self.h = int(w), int(h)\n",
        "        print('input w,h', self.w, self.h, ' output shape:', self.tf_output_features.shape)\n",
        "\n",
        "        self.convert2BGR = convert2BGR\n",
        "        self.imageNetUtilsMean = imageNetUtilsMean\n",
        "        self.additional_input_value = additional_input_value\n",
        "\n",
        "    def preprocess_image(self, img_filepath, crop_center):\n",
        "        if crop_center:\n",
        "            orig_w, orig_h = 250, 250\n",
        "            img = misc.imread(img_filepath, mode='RGB')\n",
        "            img = misc.imresize(img, (orig_w, orig_h), interp='bilinear')\n",
        "            w1, h1 = 128, 128\n",
        "            dw = (orig_w - w1) // 2\n",
        "            dh = (orig_h - h1) // 2\n",
        "            box = (dw, dh, orig_w - dw, orig_h - dh)\n",
        "            img = img[dh:-dh, dw:-dw]\n",
        "        else:\n",
        "            img = misc.imread(img_filepath, mode='RGB')\n",
        "\n",
        "        x = misc.imresize(img, (self.w, self.h), interp='bilinear').astype(float)\n",
        "\n",
        "        if self.convert2BGR:\n",
        "            # 'RGB'->'BGR'\n",
        "            x = x[..., ::-1]\n",
        "            # Zero-center by mean pixel\n",
        "            if self.imageNetUtilsMean:  # imagenet.utils caffe\n",
        "                x[..., 0] -= 103.939\n",
        "                x[..., 1] -= 116.779\n",
        "                x[..., 2] -= 123.68\n",
        "            else:  # vggface-2\n",
        "                x[..., 0] -= 91.4953\n",
        "                x[..., 1] -= 103.8827\n",
        "                x[..., 2] -= 131.0912\n",
        "        else:\n",
        "            x = (x - 127.5) / 128.0\n",
        "        return x\n",
        "\n",
        "    def extract_features(self, img_filepath, crop_center=False):\n",
        "        print(img_filepath)\n",
        "        start_t = time.time()\n",
        "        x = self.preprocess_image(img_filepath, crop_center)\n",
        "        x = np.expand_dims(x, axis=0)\n",
        "        feed_dict = {self.tf_input_image: x}\n",
        "        if self.tf_learning_phase is not None:\n",
        "            feed_dict[self.tf_learning_phase] = self.additional_input_value\n",
        "        preds = self.tf_sess.run(self.tf_output_features, feed_dict=feed_dict).reshape(-1)\n",
        "        start_t1 = time.time()\n",
        "        tot_time = start_t1 - start_t\n",
        "        print(\"Time: \", tot_time)\n",
        "        return preds\n",
        "\n",
        "    def close_session(self):\n",
        "        self.tf_sess.close()\n",
        "\n",
        "def extract_feature_vec():\n",
        "    crop_center = True\n",
        "    features_file = 'lfw_vggface2.npz'\n",
        "    model_path = '/content/gdrive/My Drive/NIS/vgg2_resnet.pb'\n",
        "    tfInference=TensorFlowInference(model_path, input_tensor='input:0', output_tensor='pool5_7x7_s1:0', convert2BGR=True, imageNetUtilsMean=False)\n",
        "    X = np.array(\n",
        "        [tfInference.extract_features(filepath, crop_center=crop_center) for filepath in all_images])\n",
        "    \n",
        "    tfInference.close_session()\n",
        "    print('--- %s seconds ---' % (time.time() - start_time))\n",
        "    print('X.shape=', X.shape)\n",
        "    print('X[0,5]=', X[:, 0:6])\n",
        "    np.savez(features_file, x=X, y=labels)\n"
      ],
      "execution_count": 0,
      "outputs": []
    },
    {
      "cell_type": "code",
      "metadata": {
        "id": "HckNOX7BmMs2",
        "colab_type": "code",
        "colab": {}
      },
      "source": [
        "extract_feature_vec()"
      ],
      "execution_count": 0,
      "outputs": []
    },
    {
      "cell_type": "code",
      "metadata": {
        "id": "KMD701faDB49",
        "colab_type": "code",
        "colab": {}
      },
      "source": [
        "!pip install kmapper"
      ],
      "execution_count": 0,
      "outputs": []
    },
    {
      "cell_type": "markdown",
      "metadata": {
        "id": "OFXsKVkZH3X8",
        "colab_type": "text"
      },
      "source": [
        "### Kepler mapper"
      ]
    },
    {
      "cell_type": "code",
      "metadata": {
        "id": "ZXjxHSIfH8px",
        "colab_type": "code",
        "colab": {}
      },
      "source": [
        "# Kepler-mapper\n",
        "import kmapper as km\n",
        "import cv2 as cv\n",
        "import base64\n",
        "import numpy as np\n",
        "\n",
        "import sklearn\n",
        "from sklearn import cluster\n",
        "import matplotlib.pyplot as plt\n",
        "\n",
        "\n",
        "def convert_imgs(all_imgs):\n",
        "  tooltip_s = []\n",
        "  img_data = []\n",
        "  for image_data in all_imgs:\n",
        "      img = cv.imread(str(image_data))\n",
        "      gray_image = cv.cvtColor(img, cv.COLOR_BGR2GRAY)\n",
        "      gray_image = np.reshape(gray_image, gray_image.shape[0]*gray_image.shape[1])\n",
        "      img_data.append(gray_image)\n",
        "      img_encoded = base64.b64encode(gray_image)\n",
        "      img_tag = \"\"\"<img src=\"data:image/png;base64,{}\">\"\"\".format(img_encoded.decode('utf-8'))\n",
        "      tooltip_s.append(img_tag)\n",
        "  return img_data, tooltip_s\n",
        "\n",
        "\n",
        "def km_visualize_cluster(cluster_alg, cluster_name, data, labels, data_type='imgs'):\n",
        "  # Initialize to use t-SNE with 2 components (reduces data to 2 dimensions). Also note high overlap_percentage.\n",
        "  mapper = km.KeplerMapper(verbose=2)\n",
        "  _data = np.array(data)\n",
        "  # Fit and transform data\n",
        "  projected_data = mapper.fit_transform(_data)\n",
        "\n",
        "  # Create the graph (we cluster on the projected data and suffer projection loss)\n",
        "  graph = mapper.map(projected_data, clusterer=cluster_alg, cover=km.Cover(35, 0.4))\n",
        "\n",
        "  mapper.visualize(graph,\n",
        "                  title=f\"Labels {cluster_name} Mapper\",\n",
        "                  path_html=f\"{cluster_name}_by_{data_type}_tooltips.html\",\n",
        "                  custom_tooltips=labels)\n",
        "\n",
        "  # Matplotlib examples\n",
        "  km.draw_matplotlib(graph)\n",
        "  plt.show()\n"
      ],
      "execution_count": 0,
      "outputs": []
    },
    {
      "cell_type": "markdown",
      "metadata": {
        "id": "uTpL1gmzU9oU",
        "colab_type": "text"
      },
      "source": [
        "### Load Feature vectors"
      ]
    },
    {
      "cell_type": "code",
      "metadata": {
        "id": "WrLyhuZXKgBL",
        "colab_type": "code",
        "colab": {}
      },
      "source": [
        "import pandas as pd\n",
        "import pathlib\n",
        "import numpy as np\n",
        "\n",
        "def load_features():\n",
        "  data = np.load('lfw_vggface2.npz')\n",
        "  features = data['x']\n",
        "  label = data['y']\n",
        "  data.close()\n",
        "  return features, label\n"
      ],
      "execution_count": 0,
      "outputs": []
    },
    {
      "cell_type": "code",
      "metadata": {
        "id": "Rk7Vvgznb_Du",
        "colab_type": "code",
        "colab": {}
      },
      "source": [
        "features, label = load_features()"
      ],
      "execution_count": 0,
      "outputs": []
    },
    {
      "cell_type": "markdown",
      "metadata": {
        "id": "o4z1xqN5TeLX",
        "colab_type": "text"
      },
      "source": [
        "### Clustering"
      ]
    },
    {
      "cell_type": "code",
      "metadata": {
        "id": "k03s07V9lU93",
        "colab_type": "code",
        "colab": {}
      },
      "source": [
        "# https://scikit-learn.org/stable/modules/clustering.html\n",
        "from sklearn import metrics\n",
        "\n",
        "def print_eval(clustering, data_Y):\n",
        "  print(\"adjusted_rand_score: \", metrics.adjusted_rand_score(clustering, data_Y)) # measures the similarity of the two assignments, ignoring permutations and with chance normalization\n",
        "  print(\"adjusted_mutual_info_score: \", metrics.adjusted_mutual_info_score(clustering, data_Y)) # measures the agreement of the two assignments, ignoring permutations. Two different normalized versions of this measure are available, Normalized Mutual Information (NMI) and Adjusted Mutual Information (AMI). NMI is often used in the literature, while AMI was proposed more recently and is normalized against chance\n",
        "  print(\"homogeneity_score: \", metrics.homogeneity_score(clustering, data_Y)) # each cluster contains only members of a single class\n",
        "  print(\"completeness_score: \", metrics.completeness_score(clustering, data_Y)) # all members of a given class are assigned to the same cluster\n",
        "  print(\"v_measure_score: \", metrics.v_measure_score(clustering, data_Y)) # Homogeneity and Completness harmonic mean called V-measure\n",
        "  print(\"fowlkes_mallows_score: \", metrics.fowlkes_mallows_score(clustering, data_Y)) # defined as the geometric mean of the pairwise precision and recall"
      ],
      "execution_count": 0,
      "outputs": []
    },
    {
      "cell_type": "code",
      "metadata": {
        "id": "d_xXI4RtR56M",
        "colab_type": "code",
        "colab": {}
      },
      "source": [
        "import matplotlib.pyplot as plt"
      ],
      "execution_count": 0,
      "outputs": []
    },
    {
      "cell_type": "code",
      "metadata": {
        "id": "fjLfJ1PmljsC",
        "colab_type": "code",
        "colab": {}
      },
      "source": [
        "def DBSCAN_cluster(data, data_Y, eps):\n",
        "  print(\"DBSCAN\")\n",
        "  clustering = cluster.DBSCAN(eps=eps, min_samples=1, algorithm='kd_tree').fit(data)\n",
        "  print(\"Clusters: \", len(set(clustering.labels_)))\n",
        "  print_eval(clustering.labels_, data_Y)\n",
        "  print(\"\\n\")"
      ],
      "execution_count": 0,
      "outputs": []
    },
    {
      "cell_type": "code",
      "metadata": {
        "id": "k67JHStvxYva",
        "colab_type": "code",
        "colab": {}
      },
      "source": [
        "def Birch_cluster(data, data_Y):\n",
        "    print(\"Birch\")\n",
        "    val = {}\n",
        "    for n_cluster in np.arange(100, 1600, 100):\n",
        "      print(n_cluster)\n",
        "      clustering = Birch(branching_factor=50, n_clusters=int(n_cluster), threshold=0.5, compute_labels=True).fit(data)\n",
        "      val[n_cluster] = silhouette_score(data, clustering.labels_, metric='euclidean')\n",
        "\n",
        "    plt.figure()\n",
        "    plt.plot(list(val.keys()), list(val.values()))\n",
        "    plt.xlabel(\"Number of cluster\")\n",
        "    plt.ylabel(\"Silhouette score\")\n",
        "    plt.show()\n",
        "\n",
        "    max_key = max(val, key=lambda k: val[k])\n",
        "    clustering = Birch(branching_factor=50, n_clusters=int(max_key), threshold=0.5, compute_labels=True).fit(data)\n",
        "    print(\"Clusters: \", len(set(clustering.labels_)))\n",
        "    print_eval(clustering.labels_, data_Y)\n",
        "    print(\"\\n\")"
      ],
      "execution_count": 0,
      "outputs": []
    },
    {
      "cell_type": "code",
      "metadata": {
        "id": "AxVMl-AvQkYh",
        "colab_type": "code",
        "colab": {}
      },
      "source": [
        "def MeanShift_cluster(data, data_Y, bandwidth):\n",
        "    print(\"MeanShift\")\n",
        "    clustering = MeanShift(bandwidth=bandwidth, bin_seeding=True).fit(data)\n",
        "    print(\"Clusters: \", len(set(clustering.labels_)))\n",
        "    print_eval(clustering.labels_, data_Y)\n",
        "    print(\"\\n\")"
      ],
      "execution_count": 0,
      "outputs": []
    },
    {
      "cell_type": "code",
      "metadata": {
        "id": "dqH4kvEgQk-s",
        "colab_type": "code",
        "colab": {}
      },
      "source": [
        "def AgglomerativeClustering_complete(data, data_Y):\n",
        "    print(\"AgglomerativeClustering(complete)\")\n",
        "    val = {}\n",
        "    for n_cluster in np.arange(100, 1600, 100):\n",
        "      print(n_cluster)\n",
        "      clustering = AgglomerativeClustering(n_clusters=int(n_cluster), linkage='complete', affinity='cosine').fit(data)\n",
        "      val[n_cluster] = silhouette_score(data, clustering.labels_, metric='euclidean')\n",
        "\n",
        "    plt.figure()\n",
        "    plt.plot(list(val.keys()), list(val.values()))\n",
        "    plt.xlabel(\"Number of cluster\")\n",
        "    plt.ylabel(\"Silhouette score\")\n",
        "    plt.show()\n",
        "\n",
        "    max_key = max(val, key=lambda k: val[k])\n",
        "    print(max_key)\n",
        "    clustering = AgglomerativeClustering(n_clusters=int(max_key), linkage='complete', affinity='cosine').fit(data)\n",
        "    print(\"Clusters: \", len(set(clustering.labels_)))\n",
        "    print_eval(clustering.labels_, data_Y)\n",
        "    print(\"\\n\")"
      ],
      "execution_count": 0,
      "outputs": []
    },
    {
      "cell_type": "code",
      "metadata": {
        "id": "JZKgK3BvQqQ5",
        "colab_type": "code",
        "colab": {}
      },
      "source": [
        "def AffinityPropagation_cluster(data, data_Y):\n",
        "    print(\"AffinityPropagation\")\n",
        "    clustering = AffinityPropagation(damping=0.5, max_iter=200).fit(data)\n",
        "    print(\"Clusters: \", len(set(clustering.labels_)))\n",
        "    print_eval(clustering.labels_, data_Y)\n",
        "    print(\"\\n\")"
      ],
      "execution_count": 0,
      "outputs": []
    },
    {
      "cell_type": "code",
      "metadata": {
        "id": "vpbDCWW6UzeN",
        "colab_type": "code",
        "colab": {}
      },
      "source": [
        "def MiniBatchKMeans_cluster(data, data_Y):\n",
        "    print(\"MiniBatchKMeans\")\n",
        "    val = {}\n",
        "    for n_cluster in np.arange(100, 1600, 100):\n",
        "      print(n_cluster)\n",
        "      clustering = cluster.MiniBatchKMeans(n_clusters=int(n_cluster), batch_size=256).fit(data)\n",
        "      val[n_cluster] = silhouette_score(data, clustering.labels_, metric='euclidean')\n",
        "\n",
        "    plt.figure()\n",
        "    plt.plot(list(val.keys()), list(val.values()))\n",
        "    plt.xlabel(\"Number of cluster\")\n",
        "    plt.ylabel(\"Silhouette score\")\n",
        "    plt.show()\n",
        "\n",
        "    max_key = max(val, key=lambda k: val[k])\n",
        "    clustering = cluster.MiniBatchKMeans(n_clusters=int(max_key), batch_size=256).fit(data)\n",
        "    print(\"Clusters: \", len(set(clustering.labels_)))\n",
        "    print_eval(clustering.labels_, data_Y)\n",
        "    print(\"\\n\")"
      ],
      "execution_count": 0,
      "outputs": []
    },
    {
      "cell_type": "markdown",
      "metadata": {
        "id": "7xybQT6BQnW3",
        "colab_type": "text"
      },
      "source": [
        "### Clustering by images as-is"
      ]
    },
    {
      "cell_type": "code",
      "metadata": {
        "id": "udmBEnSdWOXP",
        "colab_type": "code",
        "colab": {}
      },
      "source": [
        "Birch_cluster(img_data, labels)"
      ],
      "execution_count": 0,
      "outputs": []
    },
    {
      "cell_type": "code",
      "metadata": {
        "id": "NQr7SsFPWQ8o",
        "colab_type": "code",
        "colab": {}
      },
      "source": [
        "MeanShift_cluster(img_data, labels, 10)"
      ],
      "execution_count": 0,
      "outputs": []
    },
    {
      "cell_type": "code",
      "metadata": {
        "id": "1hXHHHQyWRFe",
        "colab_type": "code",
        "colab": {}
      },
      "source": [
        "AgglomerativeClustering_complete(img_data, labels)"
      ],
      "execution_count": 0,
      "outputs": []
    },
    {
      "cell_type": "code",
      "metadata": {
        "id": "MlRlYC5oWROy",
        "colab_type": "code",
        "colab": {}
      },
      "source": [
        "AffinityPropagation_cluster(img_data, labels)"
      ],
      "execution_count": 0,
      "outputs": []
    },
    {
      "cell_type": "code",
      "metadata": {
        "id": "UHw2OEbmWRV1",
        "colab_type": "code",
        "colab": {}
      },
      "source": [
        "MiniBatchKMeans_cluster(img_data, labels)"
      ],
      "execution_count": 0,
      "outputs": []
    },
    {
      "cell_type": "markdown",
      "metadata": {
        "id": "E_wEA1hwSYPK",
        "colab_type": "text"
      },
      "source": [
        "### Kepler mapper pictures as-is"
      ]
    },
    {
      "cell_type": "code",
      "metadata": {
        "id": "VE7rcIstssVI",
        "colab_type": "code",
        "colab": {}
      },
      "source": [
        "from sklearn.cluster import DBSCAN, SpectralClustering, Birch, MiniBatchKMeans, MeanShift, AgglomerativeClustering, AffinityPropagation, SpectralClustering\n",
        "from sklearn.model_selection import train_test_split\n",
        "from sklearn.metrics import silhouette_score\n",
        "from pathlib import Path\n",
        "from sklearn import metrics, cluster"
      ],
      "execution_count": 0,
      "outputs": []
    },
    {
      "cell_type": "code",
      "metadata": {
        "id": "62dLrRrFDyib",
        "colab_type": "code",
        "colab": {}
      },
      "source": [
        "all_imgs = get_all_imgs()\n",
        "labels = get_labels(all_imgs)\n",
        "\n",
        "img_data, tooltip_s = convert_imgs(all_imgs)"
      ],
      "execution_count": 0,
      "outputs": []
    },
    {
      "cell_type": "code",
      "metadata": {
        "id": "0K8poQ3vT-Pu",
        "colab_type": "code",
        "colab": {}
      },
      "source": [
        "labels = np.array(labels)\n",
        "tooltip_s = np.array(tooltip_s)"
      ],
      "execution_count": 0,
      "outputs": []
    },
    {
      "cell_type": "code",
      "metadata": {
        "id": "cYK7xeeVnmGm",
        "colab_type": "code",
        "colab": {}
      },
      "source": [
        "cluster_alg = cluster.DBSCAN(eps=1,min_samples=1, algorithm='kd_tree')\n",
        "km_visualize_cluster(cluster_alg, 'DBSCAN',  img_data, labels, data_type='imgs')"
      ],
      "execution_count": 0,
      "outputs": []
    },
    {
      "cell_type": "code",
      "metadata": {
        "id": "BOa2xg0uM94K",
        "colab_type": "code",
        "colab": {}
      },
      "source": [
        "cluster_alg = cluster.AgglomerativeClustering(n_clusters=1400, linkage='complete', affinity='cosine')\n",
        "km_visualize_cluster(cluster_alg, 'AgglomerativeClustering', img_data, labels, data_type='imgs')"
      ],
      "execution_count": 0,
      "outputs": []
    },
    {
      "cell_type": "code",
      "metadata": {
        "id": "MO3qAAJjneQ5",
        "colab_type": "code",
        "colab": {}
      },
      "source": [
        "cluster_alg = cluster.AffinityPropagation(damping=0.5, max_iter=200)\n",
        "km_visualize_cluster(cluster_alg, 'AffinityPropagation', img_data, labels, data_type='imgs')"
      ],
      "execution_count": 0,
      "outputs": []
    },
    {
      "cell_type": "code",
      "metadata": {
        "id": "pCX42gChniim",
        "colab_type": "code",
        "colab": {}
      },
      "source": [
        "cluster_alg = cluster.MiniBatchKMeans(n_clusters=200, batch_size=256)\n",
        "km_visualize_cluster(cluster_alg, 'MiniBatchKMeans', img_data, labels, data_type='imgs')"
      ],
      "execution_count": 0,
      "outputs": []
    },
    {
      "cell_type": "code",
      "metadata": {
        "id": "y7arPj8hsdIK",
        "colab_type": "code",
        "colab": {}
      },
      "source": [
        "cluster_alg = cluster.Birch(branching_factor=50, n_clusters=500, threshold=0.5, compute_labels=True)\n",
        "km_visualize_cluster(cluster_alg, 'Birch', img_data, labels, data_type='imgs')"
      ],
      "execution_count": 0,
      "outputs": []
    },
    {
      "cell_type": "code",
      "metadata": {
        "id": "NxH9Q2fTERf0",
        "colab_type": "code",
        "colab": {}
      },
      "source": [
        "cluster_alg = MeanShift(bandwidth=10, bin_seeding=True)\n",
        "km_visualize_cluster(cluster_alg, 'MeanShift', img_data, labels, data_type='imgs')"
      ],
      "execution_count": 0,
      "outputs": []
    },
    {
      "cell_type": "markdown",
      "metadata": {
        "id": "XzU3xaGGQ7Hn",
        "colab_type": "text"
      },
      "source": [
        "###Clustering + Kepler Mapper by feature vectors"
      ]
    },
    {
      "cell_type": "code",
      "metadata": {
        "id": "GJN-4C1HRBEd",
        "colab_type": "code",
        "outputId": "0cd3bafd-53e8-4dda-ec06-7f66c3a350ea",
        "colab": {
          "base_uri": "https://localhost:8080/",
          "height": 602
        }
      },
      "source": [
        "AgglomerativeClustering_complete(features, labels)"
      ],
      "execution_count": 0,
      "outputs": [
        {
          "output_type": "stream",
          "text": [
            "AgglomerativeClustering(complete)\n",
            "1400\n",
            "1425\n",
            "1450\n",
            "1475\n",
            "1500\n",
            "1525\n",
            "1575\n",
            "1600\n"
          ],
          "name": "stdout"
        },
        {
          "output_type": "display_data",
          "data": {
            "image/png": "[encoded data removed]",
            "text/plain": [
              "<Figure size 432x288 with 1 Axes>"
            ]
          },
          "metadata": {
            "tags": []
          }
        },
        {
          "output_type": "stream",
          "text": [
            "1400\n",
            "Clusters:  1400\n",
            "adjusted_rand_score:  0.13789953646573153\n",
            "adjusted_mutual_info_score:  0.48527404276704245\n",
            "homogeneity_score:  0.7897299769700769\n",
            "completeness_score:  0.9999308456775142\n",
            "v_measure_score:  0.88248605963262\n",
            "fowlkes_mallows_score:  0.2755413582325003\n",
            "\n",
            "\n"
          ],
          "name": "stdout"
        }
      ]
    },
    {
      "cell_type": "code",
      "metadata": {
        "id": "7FXIaE-5yGoi",
        "colab_type": "code",
        "colab": {}
      },
      "source": [
        "cluster_alg = cluster.AgglomerativeClustering(n_clusters=500, linkage='complete', affinity='cosine')\n",
        "km_visualize_cluster(cluster_alg, 'AgglomerativeClustering', features, labels, data_type='features')"
      ],
      "execution_count": 0,
      "outputs": []
    },
    {
      "cell_type": "code",
      "metadata": {
        "id": "bC36DDULZ3Eb",
        "colab_type": "code",
        "colab": {}
      },
      "source": [
        "MeanShift_cluster(features, labels, 10)"
      ],
      "execution_count": 0,
      "outputs": []
    },
    {
      "cell_type": "code",
      "metadata": {
        "id": "Q98rxZLDX6-9",
        "colab_type": "code",
        "colab": {}
      },
      "source": [
        "cluster_alg = MeanShift(bandwidth=10, bin_seeding=True)\n",
        "km_visualize_cluster(cluster_alg, 'MeanShift', features, labels, data_type='features')"
      ],
      "execution_count": 0,
      "outputs": []
    },
    {
      "cell_type": "code",
      "metadata": {
        "id": "4XRTidw0UREY",
        "colab_type": "code",
        "outputId": "e7ae0241-5859-416d-efd8-1f46f54891f1",
        "colab": {
          "base_uri": "https://localhost:8080/",
          "height": 602
        }
      },
      "source": [
        "MiniBatchKMeans_cluster(features, labels)"
      ],
      "execution_count": 0,
      "outputs": [
        {
          "output_type": "stream",
          "text": [
            "MiniBatchKMeans\n",
            "1400\n",
            "1425\n",
            "1450\n",
            "1475\n",
            "1500\n",
            "1525\n",
            "1550\n",
            "1575\n",
            "1600\n"
          ],
          "name": "stdout"
        },
        {
          "output_type": "display_data",
          "data": {
            "image/png": "[encoded data removed]",
            "text/plain": [
              "<Figure size 432x288 with 1 Axes>"
            ]
          },
          "metadata": {
            "tags": []
          }
        },
        {
          "output_type": "stream",
          "text": [
            "Clusters:  1450\n",
            "adjusted_rand_score:  0.12918573882550022\n",
            "adjusted_mutual_info_score:  0.4670033827249295\n",
            "homogeneity_score:  0.7816044639748769\n",
            "completeness_score:  0.9833293679516744\n",
            "v_measure_score:  0.870938739623648\n",
            "fowlkes_mallows_score:  0.24637999960781132\n",
            "\n",
            "\n"
          ],
          "name": "stdout"
        }
      ]
    },
    {
      "cell_type": "code",
      "metadata": {
        "id": "TzbFiSgkxwXC",
        "colab_type": "code",
        "colab": {}
      },
      "source": [
        "cluster_alg = cluster.MiniBatchKMeans(n_clusters=200, batch_size=256)\n",
        "km_visualize_cluster(cluster_alg, 'MiniBatchKMeans', features, labels, data_type='features')"
      ],
      "execution_count": 0,
      "outputs": []
    },
    {
      "cell_type": "code",
      "metadata": {
        "id": "xDX0E80bZvUd",
        "colab_type": "code",
        "colab": {}
      },
      "source": [
        "AffinityPropagation_cluster(features, labels)"
      ],
      "execution_count": 0,
      "outputs": []
    },
    {
      "cell_type": "code",
      "metadata": {
        "id": "tBFr3y8NYMa1",
        "colab_type": "code",
        "colab": {}
      },
      "source": [
        "cluster_alg = cluster.AffinityPropagation(damping=0.5, max_iter=200)\n",
        "km_visualize_cluster(cluster_alg, 'AffinityPropagation', features, labels, data_type='features')"
      ],
      "execution_count": 0,
      "outputs": []
    },
    {
      "cell_type": "code",
      "metadata": {
        "id": "KRecUeAcWVNV",
        "colab_type": "code",
        "outputId": "b043d785-1d36-41b4-f9ec-62e9e42b7c33",
        "colab": {
          "base_uri": "https://localhost:8080/",
          "height": 187
        }
      },
      "source": [
        "DBSCAN_cluster(features, labels, 1)"
      ],
      "execution_count": 0,
      "outputs": [
        {
          "output_type": "stream",
          "text": [
            "DBSCAN\n",
            "Clusters:  3739\n",
            "adjusted_rand_score:  0.0\n",
            "adjusted_mutual_info_score:  1.202902359249706e-11\n",
            "homogeneity_score:  0.6517209468303616\n",
            "completeness_score:  1.0\n",
            "v_measure_score:  0.789141710748427\n",
            "fowlkes_mallows_score:  0.0\n",
            "\n",
            "\n"
          ],
          "name": "stdout"
        }
      ]
    },
    {
      "cell_type": "code",
      "metadata": {
        "id": "MIC3BUJiXGDl",
        "colab_type": "code",
        "colab": {}
      },
      "source": [
        "cluster_alg = cluster.DBSCAN(eps=1,min_samples=1, algorithm='kd_tree')\n",
        "km_visualize_cluster(cluster_alg, 'DBSCAN', features, labels, data_type='features')"
      ],
      "execution_count": 0,
      "outputs": []
    },
    {
      "cell_type": "code",
      "metadata": {
        "id": "Vy3gv8_Xo7zw",
        "colab_type": "code",
        "outputId": "fdf9eed3-2a39-4093-a1e1-52f3993622c5",
        "colab": {
          "base_uri": "https://localhost:8080/",
          "height": 713
        }
      },
      "source": [
        "Birch_cluster(features, labels,)"
      ],
      "execution_count": 0,
      "outputs": [
        {
          "output_type": "stream",
          "text": [
            "Birch\n",
            "100\n",
            "200\n",
            "300\n",
            "400\n",
            "500\n",
            "600\n",
            "700\n",
            "800\n",
            "900\n",
            "1000\n",
            "1100\n",
            "1200\n",
            "1300\n",
            "1400\n",
            "1500\n"
          ],
          "name": "stdout"
        },
        {
          "output_type": "display_data",
          "data": {
            "image/png": "[encoded data removed]",
            "text/plain": [
              "<Figure size 432x288 with 1 Axes>"
            ]
          },
          "metadata": {
            "tags": []
          }
        },
        {
          "output_type": "stream",
          "text": [
            "Clusters:  500\n",
            "adjusted_rand_score:  0.3794580611588036\n",
            "adjusted_mutual_info_score:  0.8283121341911814\n",
            "homogeneity_score:  0.9203647954780035\n",
            "completeness_score:  0.9775315429569219\n",
            "v_measure_score:  0.9480872062261928\n",
            "fowlkes_mallows_score:  0.4855393471720077\n",
            "\n",
            "\n"
          ],
          "name": "stdout"
        }
      ]
    },
    {
      "cell_type": "code",
      "metadata": {
        "id": "LT0q5FG2X4lj",
        "colab_type": "code",
        "colab": {}
      },
      "source": [
        "cluster_alg = cluster.Birch(branching_factor=50, n_clusters=500, threshold=0.5, compute_labels=True)\n",
        "km_visualize_cluster(cluster_alg, 'Birch', features, labels, data_type='features')"
      ],
      "execution_count": 0,
      "outputs": []
    }
  ]
}